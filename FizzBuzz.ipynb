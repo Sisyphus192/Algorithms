{
 "cells": [
  {
   "cell_type": "markdown",
   "metadata": {},
   "source": [
    "# FizzBuzz\n",
    "\n",
    "Write a program that outputs the string representation of numbers from 1 to n.\n",
    "\n",
    "But for multiples of three it should output “Fizz” instead of the number and for the multiples of five output “Buzz”. For numbers which are multiples of both three and five output “FizzBuzz”."
   ]
  },
  {
   "cell_type": "markdown",
   "metadata": {},
   "source": [
    "## Example\n",
    "n = 15,\n",
    "\n",
    "Return:\n",
    "[\n",
    "    \"1\",\n",
    "    \"2\",\n",
    "    \"Fizz\",\n",
    "    \"4\",\n",
    "    \"Buzz\",\n",
    "    \"Fizz\",\n",
    "    \"7\",\n",
    "    \"8\",\n",
    "    \"Fizz\",\n",
    "    \"Buzz\",\n",
    "    \"11\",\n",
    "    \"Fizz\",\n",
    "    \"13\",\n",
    "    \"14\",\n",
    "    \"FizzBuzz\"\n",
    "]"
   ]
  },
  {
   "cell_type": "markdown",
   "metadata": {},
   "source": [
    "FizzBuzz is a supposedly popular coding interview question despite it's apparent simplicity. I think here are a two main reasons for this:\n",
    "1: It is pretty simple and takes only a few minutes tops to solve so it's a quick way for the interviewer to filter out 99% of people who can't actually program.\n",
    "2: There are two main ways to program the solution, one has redundant comparisons and one does not so its a quick test to see if the programmer has evolved beyond the basic if a then b elif c then d else e pattern of thinking."
   ]
  },
  {
   "cell_type": "markdown",
   "metadata": {},
   "source": [
    "**Typical if elif elif else approach**"
   ]
  },
  {
   "cell_type": "code",
   "execution_count": 12,
   "metadata": {
    "collapsed": true
   },
   "outputs": [],
   "source": [
    "def fizzBuzz_if(n):\n",
    "    s = []\n",
    "    for i in range(1, n + 1):\n",
    "        if (i % 3) == 0 and (i % 5) == 0:\n",
    "            s.append(\"FizzBuzz\")\n",
    "        elif (i % 3) == 0:\n",
    "            s.append(\"Fizz\")\n",
    "        elif (i % 5) == 0:\n",
    "            s.append(\"Buzz\")\n",
    "        else:\n",
    "            s.append(str(i))\n",
    "    return s"
   ]
  },
  {
   "cell_type": "markdown",
   "metadata": {},
   "source": [
    "**String concatonation approach**"
   ]
  },
  {
   "cell_type": "code",
   "execution_count": 13,
   "metadata": {
    "collapsed": false
   },
   "outputs": [],
   "source": [
    "def fizzBuzz_cat(n):\n",
    "    ss = []\n",
    "    for i in range(1, n + 1):\n",
    "        s = \"\"\n",
    "        if i % 3 == 0:\n",
    "            s += \"Fizz\"\n",
    "        if i % 5 == 0:\n",
    "            s += \"Buzz\"\n",
    "        if s == \"\":\n",
    "            s = str(i)\n",
    "        ss.append(s)\n",
    "    return ss"
   ]
  },
  {
   "cell_type": "markdown",
   "metadata": {},
   "source": [
    "**Comparison of the two**"
   ]
  },
  {
   "cell_type": "code",
   "execution_count": 18,
   "metadata": {
    "collapsed": false
   },
   "outputs": [
    {
     "data": {
      "image/png": "[encoded data removed]",
      "text/plain": [
       "<matplotlib.figure.Figure at 0x10b6aa400>"
      ]
     },
     "metadata": {},
     "output_type": "display_data"
    }
   ],
   "source": [
    "import matplotlib.pyplot as plt\n",
    "\n",
    "if_times = []\n",
    "cat_times = []\n",
    "for i in range(15,22):\n",
    "    x = %timeit -n1 -r1 -o -q fizzBuzz_if(2**i)\n",
    "    if_times.append(x.best)\n",
    "    x = %timeit -n1 -r1 -o -q fizzBuzz_cat(2**i)\n",
    "    cat_times.append(x.best)\n",
    "    \n",
    "line_if, = plt.plot(if_times, label='if approach')\n",
    "line_cat, = plt.plot(cat_times, label='cat approach')\n",
    "plt.legend(handles=[line_if, line_cat],\n",
    "           bbox_to_anchor=(1.3, 0.9),\n",
    "           bbox_transform=plt.gcf().transFigure)\n",
    "plt.ylabel(\"Runtime in seconds\")\n",
    "plt.xlabel(\"Size of n (in large powers of 2)\")\n",
    "plt.show()"
   ]
  },
  {
   "cell_type": "code",
   "execution_count": 19,
   "metadata": {
    "collapsed": false
   },
   "outputs": [
    {
     "name": "stdout",
     "output_type": "stream",
     "text": [
      "The line_profiler extension is already loaded. To reload it, use:\n",
      "  %reload_ext line_profiler\n"
     ]
    }
   ],
   "source": [
    "%load_ext line_profiler\n",
    "%lprun -f fizzBuzz_if fizzBuzz_if(2**15)"
   ]
  },
  {
   "cell_type": "code",
   "execution_count": 22,
   "metadata": {
    "collapsed": false
   },
   "outputs": [],
   "source": [
    "%lprun -f fizzBuzz_cat fizzBuzz_cat(2**15)"
   ]
  }
 ],
 "metadata": {
  "kernelspec": {
   "display_name": "Python 3",
   "language": "python",
   "name": "python3"
  },
  "language_info": {
   "codemirror_mode": {
    "name": "ipython",
    "version": 3
   },
   "file_extension": ".py",
   "mimetype": "text/x-python",
   "name": "python",
   "nbconvert_exporter": "python",
   "pygments_lexer": "ipython3",
   "version": "3.5.2"
  }
 },
 "nbformat": 4,
 "nbformat_minor": 2
}
